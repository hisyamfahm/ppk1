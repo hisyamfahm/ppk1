{
 "cells": [
  {
   "cell_type": "markdown",
   "metadata": {},
   "source": [
    "Variable\n",
    "========\n",
    "- Variable merupakan alokasi alamat di memori untuk menyimpan nilai dengan memberikan nama/simbol tertentu.\n",
    "- Nama variable bisa terdiri atas huruf, angka, dan _underscore_ (`\\_`).\n",
    "- Nama variable **tidak boleh** diawali dengan angka.\n",
    "- Untuk mendeklarasikan sebuah variable harus langsung kita isi dengan nilainya (inisialisasi).\n",
    "- Proses inisialisasi variable membutuhkan operator assignment (`=`).\n",
    "- Syntax inisialisasi variable adalah sebagai berikut:  \n",
    "`VariableName = Value`"
   ]
  },
  {
   "cell_type": "markdown",
   "metadata": {},
   "source": [
    "### Self Check 1\n",
    "**Perhatikan perintah di bawah ini!**  \n",
    "Manakah yang merupakan inisialisasi variable yang salah?"
   ]
  },
  {
   "cell_type": "code",
   "execution_count": null,
   "metadata": {},
   "outputs": [],
   "source": [
    "var1 = 1\n",
    "_var2 = 2\n",
    "3var3 = 3\n",
    "var4"
   ]
  },
  {
   "cell_type": "markdown",
   "metadata": {},
   "source": [
    "Data Types\n",
    "==========\n",
    "- Tipe data merupakan jenis-jenis data yang dapat disimpan dalam sebuah variable.\n",
    "- Tipe data dapat merepresentasikan data numerik, data teks, nilai logika\n",
    "- Jenis tipe data di Python tidak secara eksplisit ditulis pada saat deklarasi (seperti di Java), namun ditentukan ketika melakukan inisialisasi nilai\n",
    "- Untuk mengetahui tipe data dari suatu nilai atau variable digunakan perintah **`type()`**\n",
    "\n",
    "Numeric Data\n",
    "------------\n",
    "- Data numerik yang dapat digunakan meliputi bilangan bulat, bilangan riil, dan bilangan kompleks.\n",
    "- objek dari tipe numerik tidak dapat diubah nilainya atau bersifat immutable.\n",
    "\n",
    "### Bilangan Bulat (int)\n",
    "- Tipe data int didefinisikan langsung dengan menulis nilai angkanya tanpa simbol-simbol lainnya\n",
    "- Misal:  \n",
    "    `100`  \n",
    "    `x = 10`  \n",
    "    `print(2)`  \n",
    "\n",
    "### Bilangan Riil (float)\n",
    "- Tipe data float didefinisikan dengan cara menulis nilai angkanya dengan pemisah tanda titik (`.`) sebagai fraction\n",
    "- Misal:  \n",
    "    `1.5`  \n",
    "    `x = 3.0`  \n",
    "    `print(2.25)`  \n",
    "\n",
    "### Bilangan Kompleks (float)\n",
    "- Tipe data complex didefinisikan dengan cara menulis nilai angka bilangan riil digabungkan dengan `+` atau `-` bilangan imajiner yang diakhiri huruf `j`\n",
    "- Misal:  \n",
    "    `1.5+2j`  \n",
    "    `x = 3+3j`  \n",
    "    `print(5-1j)`  \n",
    "- Untuk mengambil bagian riilnya bisa dipanggil atribut **`real`**, dan untuk mengambil bagian imaginernya bisa digunakan atribut **`imag`**, Misal:  \n",
    "    `x.real`  \n",
    "    `x.imag`"
   ]
  },
  {
   "cell_type": "markdown",
   "metadata": {},
   "source": [
    "### Self Check 2\n",
    "**Perhatikan perintah di bawah ini!**  \n",
    "Tentukan tipe data bilangan atau variable di bawah ini?"
   ]
  },
  {
   "cell_type": "code",
   "execution_count": null,
   "metadata": {},
   "outputs": [],
   "source": [
    "2020.1002\n",
    "a = 102\n",
    "222\n",
    "b = 20+2j\n",
    "-5j+2\n",
    "c = 10.02e-20"
   ]
  },
  {
   "cell_type": "markdown",
   "metadata": {},
   "source": [
    "### Self Check 3\n",
    "Ambil bagian real dan imaginer dari variable **`b`** di atas ?"
   ]
  },
  {
   "cell_type": "code",
   "execution_count": null,
   "metadata": {},
   "outputs": [],
   "source": [
    "b"
   ]
  },
  {
   "cell_type": "markdown",
   "metadata": {},
   "source": [
    "### Tipe Data Boolean (bool)\n",
    "- Boolean merupakan tipe data yang merepresentasikan nilai benar atau salah.\n",
    "- Nilai yang bisa diberikan adalah **`True`** atau **`False`**.\n",
    "- Jika di konversikan ke tipe `int`, nilai `True` akan menghasilkan nilai `1` dan `False` menghasilkan nilai `0`\n",
    "\n",
    "Data Teks\n",
    "---------\n",
    "### Tipe Data String (str)\n",
    "- Sting di Python merupakan kumpulan karakter Unicode.\n",
    "- Dapat didefinisikan dengan 3 cara, yaitu:\n",
    "    1. Teks diapit tanda petik tunggal (`'`)\n",
    "    2. Teks diapit tanda petik ganda (`\"`)\n",
    "    3. Teks diapit tanda petik tunggal atau petik ganda diketik 3 kali (`'''`)/(`\"\"\"`)\n",
    "- Cara ketiga biasanya digunakan untuk mendefinisikan string lebih dari satu baris "
   ]
  },
  {
   "cell_type": "markdown",
   "metadata": {},
   "source": [
    "### Self Check 4\n",
    "**Perhatikan perintah di bawah ini!**  \n",
    "Jalankan dan perhatikan hasilnya?"
   ]
  },
  {
   "cell_type": "code",
   "execution_count": null,
   "metadata": {},
   "outputs": [],
   "source": [
    "s1='PK 1'\n",
    "print(s1)\n",
    "s2=\"Python\"\n",
    "print(s2)\n",
    "s3='\\nPemrograman Komputer\\ndengan Python\\n'\n",
    "print(s3)\n",
    "s4=\"\"\"Pemrograman Komputer\n",
    "dengan Python\"\"\"\n",
    "print(s4)"
   ]
  },
  {
   "cell_type": "markdown",
   "metadata": {},
   "source": [
    "- Karena tipe data string ini sebenarnya adalah objek kumpulan karakter, maka string memiliki beberapa fungsi untuk pengolahan string\n",
    "- Misalnya untuk mengubah ke huruf besar atau mengubah ke huruf kecil semua karakter, melakukan pengecekan apakah karakter stringnya merupakan angka, menggabungkan beberapa string, dll\n",
    "\n",
    "### Self Check 5\n",
    "**Perhatikan contoh perintah di bawah ini!**  \n",
    "Jalankan dan perhatikan hasilnya?"
   ]
  },
  {
   "cell_type": "code",
   "execution_count": null,
   "metadata": {},
   "outputs": [],
   "source": [
    "teks = 'saya belajar PK 1'\n",
    "print(teks.upper())\n",
    "print(teks.lower())\n",
    "print(teks.capitalize())\n",
    "print('10022020'.isnumeric())\n",
    "print('10022o20'.isnumeric())"
   ]
  },
  {
   "cell_type": "markdown",
   "metadata": {},
   "source": [
    "- Jika ingin mengonversi nilai dari tipe string ke int, gunakan fungsi **`int()`**\n",
    "- Sebaliknya jika mengonversi dari int ke string, gunakan fungsi **`str()`**\n",
    "- Begitu juga jika ingin mengonversi dari string ke float, gunakan fungsi **`float()`**\n",
    "\n",
    "### Self Check 6\n",
    "**Perhatikan contoh perintah di bawah ini!**  \n",
    "Jalankan dan tentukan tipe data masing-masing variable?"
   ]
  },
  {
   "cell_type": "code",
   "execution_count": null,
   "metadata": {},
   "outputs": [],
   "source": [
    "a = '1234'\n",
    "b = int(a)\n",
    "c = float(a)\n",
    "d = True\n",
    "e = int(d)"
   ]
  },
  {
   "cell_type": "markdown",
   "metadata": {},
   "source": [
    "Mengambil Input dari Keyboard\n",
    "=============================\n",
    "- Untuk mengambil input dari keyboard gunakan fungsi **`input()`** yang di-_assign_ ke sebuah variable\n",
    "- Misalkan: \n",
    "    `a = input(\"Masukkan sebuah bilangan int: \")`\n",
    "- Setelah di run, akan muncul cursor untuk mengetikkan input\n",
    "- Tipe data yang diinputkan selalu berupa **string**"
   ]
  },
  {
   "cell_type": "markdown",
   "metadata": {},
   "source": [
    "### Self Check 6\n",
    "**Perhatikan contoh perintah di bawah ini!**  \n",
    "Jalankan dan perhatikan hasilnya? Coba tambahkan perintah untuk konversi ke tipe data lain!"
   ]
  },
  {
   "cell_type": "code",
   "execution_count": null,
   "metadata": {},
   "outputs": [],
   "source": [
    "a = input(\"Masukkan nilai: \")\n",
    "type(a)"
   ]
  },
  {
   "cell_type": "code",
   "execution_count": null,
   "metadata": {},
   "outputs": [],
   "source": []
  }
 ],
 "metadata": {
  "kernelspec": {
   "display_name": "Python 3",
   "language": "python",
   "name": "python3"
  },
  "language_info": {
   "codemirror_mode": {
    "name": "ipython",
    "version": 3
   },
   "file_extension": ".py",
   "mimetype": "text/x-python",
   "name": "python",
   "nbconvert_exporter": "python",
   "pygments_lexer": "ipython3",
   "version": "3.7.3"
  }
 },
 "nbformat": 4,
 "nbformat_minor": 2
}
