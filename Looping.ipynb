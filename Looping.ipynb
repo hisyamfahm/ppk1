{
 "cells": [
  {
   "cell_type": "code",
   "execution_count": 4,
   "metadata": {},
   "outputs": [
    {
     "name": "stdout",
     "output_type": "stream",
     "text": [
      "1\n",
      "2\n",
      "3\n",
      "4\n",
      "5\n",
      "6\n",
      "7\n",
      "8\n",
      "9\n",
      "10\n"
     ]
    }
   ],
   "source": [
    "# Contoh perulangan dengan while untuk mencetak angka dari [0-4]\n",
    "count = 1        # inisialisasi variabel iterator\n",
    "while count < 11: # kondisi perulangan\n",
    "    print(count)\n",
    "    count += 1   # update iterator, untuk mencegah infinite loop"
   ]
  },
  {
   "cell_type": "code",
   "execution_count": 8,
   "metadata": {},
   "outputs": [
    {
     "name": "stdout",
     "output_type": "stream",
     "text": [
      "Masukkan nilai n: 5\n",
      "120\n"
     ]
    }
   ],
   "source": [
    "# Program untuk menghitung nilai faktorial n\n",
    "n = int(input(\"Masukkan nilai n: \"))\n",
    "faktorial = 1       # Variabel untuk menyimpan hasil faktorial\n",
    "i = 1               # Inisialisasi variabel iterator\n",
    "while i<=n:\n",
    "    faktorial *= i\n",
    "    i += 1          # update iterator\n",
    "print(faktorial)"
   ]
  },
  {
   "cell_type": "code",
   "execution_count": 12,
   "metadata": {},
   "outputs": [
    {
     "name": "stdout",
     "output_type": "stream",
     "text": [
      "Angka =  0\n",
      "Masukkan Angka: 40\n",
      "Angka =  40\n",
      "Masukkan Angka: 10\n",
      "Angka =  50\n",
      "Masukkan Angka: 1\n",
      "Angka berhenti pada jumlah:  51\n"
     ]
    }
   ],
   "source": [
    "# Perulangan dengan break\n",
    "b = 0\n",
    "while True:\n",
    "    print(\"Angka = \"+str(b))\n",
    "    angka = int(input(\"Masukkan Angka: \"))\n",
    "    b += angka\n",
    "    if b>50:\n",
    "        break\n",
    "print(\"Angka berhenti pada jumlah: \"+str(b))"
   ]
  },
  {
   "cell_type": "code",
   "execution_count": 16,
   "metadata": {},
   "outputs": [
    {
     "name": "stdout",
     "output_type": "stream",
     "text": [
      "2\n",
      "3\n",
      "5\n",
      "7\n",
      "m\n",
      "a\n",
      "t\n",
      "e\n",
      "m\n",
      "a\n",
      "t\n",
      "i\n",
      "k\n",
      "a\n"
     ]
    }
   ],
   "source": [
    "# Perulangan dengan for\n",
    "primes = [2,3,5,7]\n",
    "for prime in primes:\n",
    "    print(prime)\n",
    "    \n",
    "s = 'matematika'\n",
    "for i in s:\n",
    "    print(i)"
   ]
  },
  {
   "cell_type": "code",
   "execution_count": 19,
   "metadata": {},
   "outputs": [
    {
     "name": "stdout",
     "output_type": "stream",
     "text": [
      "1\n",
      "3\n",
      "5\n",
      "7\n",
      "9\n"
     ]
    }
   ],
   "source": [
    "for i in range(1,10,2):\n",
    "    print(i)"
   ]
  },
  {
   "cell_type": "code",
   "execution_count": 25,
   "metadata": {},
   "outputs": [
    {
     "name": "stdout",
     "output_type": "stream",
     "text": [
      "Masukkan nilai n: 5\n",
      "120\n"
     ]
    }
   ],
   "source": [
    "# Program untuk menghitung nilai faktorial n\n",
    "n = int(input(\"Masukkan nilai n: \"))\n",
    "faktorial = 1\n",
    "for i in range(1,n+1):\n",
    "    faktorial *= i\n",
    "print(faktorial)"
   ]
  },
  {
   "cell_type": "code",
   "execution_count": 26,
   "metadata": {},
   "outputs": [
    {
     "name": "stdout",
     "output_type": "stream",
     "text": [
      "0\n",
      "1\n",
      "2\n",
      "3\n",
      "4\n",
      "5\n",
      "6\n",
      "7\n",
      "8\n",
      "9\n"
     ]
    }
   ],
   "source": [
    "for i in range(100):\n",
    "    if i==10:\n",
    "        break\n",
    "    print(i)"
   ]
  },
  {
   "cell_type": "code",
   "execution_count": null,
   "metadata": {},
   "outputs": [],
   "source": [
    "n = int(input(\"Masukkan nilai n: \"))\n",
    "sum_even = 0\n",
    "for i in range(0,2*n,2):\n",
    "    sum_even += i\n",
    "print(sum_even)"
   ]
  },
  {
   "cell_type": "code",
   "execution_count": null,
   "metadata": {},
   "outputs": [],
   "source": []
  },
  {
   "cell_type": "code",
   "execution_count": null,
   "metadata": {},
   "outputs": [],
   "source": []
  }
 ],
 "metadata": {
  "kernelspec": {
   "display_name": "Python 3",
   "language": "python",
   "name": "python3"
  },
  "language_info": {
   "codemirror_mode": {
    "name": "ipython",
    "version": 3
   },
   "file_extension": ".py",
   "mimetype": "text/x-python",
   "name": "python",
   "nbconvert_exporter": "python",
   "pygments_lexer": "ipython3",
   "version": "3.7.3"
  }
 },
 "nbformat": 4,
 "nbformat_minor": 2
}
