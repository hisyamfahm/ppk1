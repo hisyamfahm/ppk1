{
 "cells": [
  {
   "cell_type": "markdown",
   "metadata": {},
   "source": [
    "NumPy Library\n",
    "============\n",
    "\n",
    "- NumPy (Numerical Python) adalah package dasar untuk melakukan komputasi di Python\n",
    "- Banyak library komputasi yang dibangun berdasarkan package NumPy, seperti Pandas, Scikit-Learn, Matplotlib, dll\n",
    "\n",
    "## Menggunakan Library NumPy\n",
    "- Pastikan library NumPy sudah terinstall di Python Anda\n",
    "- Untuk menggunakannya, kita harus meng-import di setiap project/worksheet Python kita\n",
    "- Cara importnya adalah:\n",
    "<pre><code>import numpy</code></pre>\n",
    "    atau dengan menambahkan alias, seperti contohnya:\n",
    "<pre><code>import numpy as np</code></pre>\n"
   ]
  },
  {
   "cell_type": "code",
   "execution_count": null,
   "metadata": {},
   "outputs": [],
   "source": [
    "import numpy as np"
   ]
  },
  {
   "cell_type": "markdown",
   "metadata": {},
   "source": [
    "## Bekerja dengan NumPy\n",
    "- Dasar dari NumPy ini adalah objek dengan multidimensional-array, atau bisa disebut <code>ndarray</code>\n",
    "- Array 1 dimensi disebut vector, array 2 dimensi disebut matriks\n",
    "- Kita dapat mengkonversi dari list menjadi numpy array, dengan cara misalnya:\n",
    "<code>numpy_array = np.array(list)</code>"
   ]
  },
  {
   "cell_type": "code",
   "execution_count": null,
   "metadata": {},
   "outputs": [],
   "source": [
    "num_arr = np.array([[1, 2, 3],[4, 5, 6]])\n"
   ]
  },
  {
   "cell_type": "markdown",
   "metadata": {},
   "source": [
    " - Beberapa function mirip seperti di MATLAB, misalnya membuat matriks random, matriks 0, dan matriks 1\n",
    " <pre><code>np.random.rand(m,n)\n",
    " np.zeros(size)\n",
    " np.ones(size)\n",
    " </code></pre>"
   ]
  },
  {
   "cell_type": "code",
   "execution_count": null,
   "metadata": {},
   "outputs": [],
   "source": [
    "arr = np.random.rand(2,3)\n",
    "arr2 = np.zeros((4,3))\n",
    "arr3 = np.ones((4))\n",
    "\n",
    "# Ujicoba\n",
    "#1. Buatlah matriks 5x5 yang berisi nilai random antara 1 - 100"
   ]
  },
  {
   "cell_type": "markdown",
   "metadata": {},
   "source": [
    "### Manipulasi Array\n",
    "- Kita bisa melihat ukuran array dengan perintah (atribut) <code>shape</code>, dan atribut <code>size</code> untuk melihat jumlah elemen array\n",
    "- Untuk melihat tipe data elemen di dalam array digunakan atribut <code>dtype</code>\n",
    "- Untuk melakukan konversi tipe data elemen array digunakan function <code>astype(dtype)</code>\n",
    "- Untuk konversi numpy array menjadi list digunakan function <code>tolist()</code>"
   ]
  },
  {
   "cell_type": "code",
   "execution_count": null,
   "metadata": {},
   "outputs": [],
   "source": [
    "print(arr.shape)\n",
    "print(arr.size)\n",
    "print(arr.dtype)\n",
    "l = arr.tolist()\n",
    "print(l)"
   ]
  },
  {
   "cell_type": "markdown",
   "metadata": {},
   "source": [
    "### Indexing dan Slicing Array\n",
    "- Indexing dan slicing pada numpy array sama seperti list (index dimulai dari 0)  \n",
    "- Ujicoba #2. Coba ambil elemen baris pertama pada array di ujicoba nomor #1\n",
    "- Ujicoba #3. Gantilah semua elemen yang kurang dari 20 menjadi nilai 0\n",
    "\n"
   ]
  },
  {
   "cell_type": "markdown",
   "metadata": {},
   "source": [
    "Sumber:\n",
    "<a href='https://towardsdatascience.com/a-quick-introduction-to-the-numpy-library-6f61b7dee4db'>Towards Data Science .com</a>"
   ]
  },
  {
   "cell_type": "code",
   "execution_count": null,
   "metadata": {},
   "outputs": [],
   "source": []
  }
 ],
 "metadata": {
  "kernelspec": {
   "display_name": "Python 3",
   "language": "python",
   "name": "python3"
  },
  "language_info": {
   "codemirror_mode": {
    "name": "ipython",
    "version": 3
   },
   "file_extension": ".py",
   "mimetype": "text/x-python",
   "name": "python",
   "nbconvert_exporter": "python",
   "pygments_lexer": "ipython3",
   "version": "3.7.3"
  }
 },
 "nbformat": 4,
 "nbformat_minor": 2
}
