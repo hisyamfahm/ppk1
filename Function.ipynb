{
 "cells": [
  {
   "cell_type": "markdown",
   "metadata": {},
   "source": [
    "Python Function\n",
    "==============="
   ]
  },
  {
   "cell_type": "markdown",
   "metadata": {},
   "source": [
    "### Jenis Functions\n",
    "Kita dapat membedakan functions menjadi 2 jenis:\n",
    "\n",
    "1. Built-in functions - Functions sudah disediakan/dibuat di Python, i.e print(), type(), len(), etc.\n",
    "2. User-defined functions - Functions yang dibuat oleh programmer sendiri  \n",
    "\n",
    "\n",
    "- Python function merupakan kumpulan pernyataan untuk menjalankan tugas tertentu.\n",
    "- Functions membantu programmer untuk mengelola programnya supaya lebih terstruktur dan efisien\n",
    "- Functions dapat mengurangi pengulangan perintah\n",
    "\n",
    "Syntax functions:  \n",
    "<pre><code><b>def</b> function_name(parameters):\n",
    "\t\"\"\"docstring\"\"\"\n",
    "\tstatement(s)</code></pre>\n",
    "    \n",
    "1. Keyword **def** merupakan awal dari function header\n",
    "2. Nama function yang unik untuk mengidentifikasi dari function yang lain. Penamaan Function mengikuti aturan penamaan variable (identifiers).\n",
    "3. **Parameters** (**arguments**) merupakan nilai yang dapat kita berikan ke dalam function. Optional, boleh kosong.\n",
    "4. **Colon** (**:**) untuk mengakhiri function header\n",
    "5. Optional documentation string (**docstring**) untuk menjelaskan function yang dibuat\n",
    "6. Satu atau beberapa perintah (statements) yang valid yang merupakan isi dari function. Statements harus memiliki **indent** yang seragam (4 spasi/ 1 tab).\n",
    "7. Optional **return** statement untuk mengembalikan sebuah output dari function"
   ]
  },
  {
   "cell_type": "code",
   "execution_count": null,
   "metadata": {},
   "outputs": [],
   "source": [
    "# Coba buat function seperti di bawah ini, yang memiliki 1 argumen\n",
    "def salam(nama):\n",
    "    \"\"\"Function ini akan memberikan salam\n",
    "    kepada seseorang yang namanya ditulis pada argumen\"\"\"\n",
    "    print(\"Assalamualaikum, \",nama+\"!\")"
   ]
  },
  {
   "cell_type": "markdown",
   "metadata": {},
   "source": [
    "### Bagaimana menjalankan function di Python?\n",
    "- Setelah kita mendefinisikan sebuah function, kita dapat menjalankannya/memanggilnya dari function lain, program lain, atau dari Python prompt\n",
    "- Untuk memanggil sebuah function cukup ketikkan nama function beserta parameter yang sesuai."
   ]
  },
  {
   "cell_type": "code",
   "execution_count": null,
   "metadata": {},
   "outputs": [],
   "source": [
    "# Panggil function salam yang sudah dibuat di atas\n",
    "salam('Fahmi')"
   ]
  },
  {
   "cell_type": "code",
   "execution_count": null,
   "metadata": {},
   "outputs": [],
   "source": [
    "# Untuk melihat docstring (dokumentasi) dari function\n",
    "print(salam.__doc__)"
   ]
  },
  {
   "cell_type": "markdown",
   "metadata": {},
   "source": [
    "### return statement\n",
    "- return statement digunakan untuk keluar dari function dan mengembalikan output kepada perintah yang memanggilnya\n",
    "Syntax dari return statement  \n",
    "<pre><code>return [expression_list]</code></pre>\n",
    "- statement ini dapat berisi ekspresi yang dapat dievaluasi maupun variable yang nilainya akan dikembalikan sebagai output\n",
    "- Jika tidak ada variable atau ekspresi pada statement ini atau tidak ada return statement dalam function, maka function tersebut akan mengembalikan objek None\n",
    "- Misalkan, coba print hasil function salam di atas! Apa yang dihasilkan?\n",
    "<pre><code>print(salam('Fahmi'))</code></pre>"
   ]
  },
  {
   "cell_type": "code",
   "execution_count": null,
   "metadata": {},
   "outputs": [],
   "source": [
    "def absolute_value(num):\n",
    "    \"\"\"function ini mengembalikan nilai absolut dari nilai yang diberikan pada argumen\"\"\"\n",
    "    if num >= 0:\n",
    "        return num\n",
    "    else:\n",
    "        return -num\n",
    "\n",
    "# Coba panggil function absolute_value() di atas dengan parameter nilai positif dan negatif"
   ]
  },
  {
   "cell_type": "markdown",
   "metadata": {},
   "source": [
    "## Python Function Arguments\n",
    "**Arguments**\n",
    "- Pada user-defined function, pemanggilan fungsi harus sesuai dengan jumlah argumennya\n",
    "- Misalnya, jika kita memanggil fungsi salam() tanpa argumen maka akan error:\n",
    "<pre><code>salam()  # no arguments\n",
    "TypeError: salam() missing 1 required positional arguments: 'nama'</code></pre>\n"
   ]
  },
  {
   "cell_type": "code",
   "execution_count": null,
   "metadata": {},
   "outputs": [],
   "source": [
    "# Buat function untuk menghitung luas segitiga dengan 2 argumen alas dan tinggi\n",
    "def luasSegitiga(alas,tinggi):\n",
    "    \"\"\"Mengitung luas segitiga\"\"\"\n",
    "    luas = 0.5*alas*tinggi\n",
    "    return luas\n",
    "# Coba panggil dengan memberikan 2 argumen\n",
    "# Coba panggil dengan memberikan 1 argumen\n",
    "# Coba panggil tanpa memberikan argumen"
   ]
  },
  {
   "cell_type": "markdown",
   "metadata": {},
   "source": [
    "## Variable Function Arguments\n",
    "- Di Python ada beberapa cara untuk mendefinisikan function yang dapat mengambil jumlah argumen secara fleksibel\n",
    "- Tiga cara yang bisa dilakukan adalah sebagai berikut:\n",
    "\n",
    "### Python Default Arguments\n",
    "- Function arguments dapat diberikan nilai defaultnya (default arguments)\n",
    "- Kita dapat mendefinisikan nilai default untuk arguments dengan assignment operator (=)\n",
    "- Arguments yang tidak memiliki nilai default (non-default arguments), tetap harus diberikan nilainya saat pemanggilan function\n",
    "- Semua arguments setelah default arguments juga harus merupakan default arguments (non-default arguments harus didefinisikan sebelum default arguments), misal:\n",
    "<pre><code>def salam(slm = \"Assalamualaikum\", nama):   #SyntaxError: non-default argument follows default argument\n",
    "</code></pre>\n"
   ]
  },
  {
   "cell_type": "code",
   "execution_count": null,
   "metadata": {},
   "outputs": [],
   "source": [
    "# Coba buat function seperti di bawah ini, yang memiliki 2 argumen yang salah satunya memiliki nilai default\n",
    "def salam(nama, slm=\"Assalamualaikum\"):\n",
    "    \"\"\"Function ini akan memberikan salam sesuai argumen slm, jika tidak diberikan maka defaulnya adalah Assalamualaikum\n",
    "    kepada seseorang yang namanya ditulis pada argumen\"\"\"\n",
    "    print(slm+\", \"+nama+\"!\")\n",
    "# Memanggil function salam() dengan satu argumen\n",
    "salam('Fahmi')\n",
    "# Memanggil function salam() dengan dua argumen\n",
    "salam('Fahmi','Salam Pancasila')"
   ]
  },
  {
   "cell_type": "code",
   "execution_count": null,
   "metadata": {},
   "outputs": [],
   "source": [
    "# Ubah function luasSegitiga di atas agar memiliki nilai default 0 untuk setiap argumentsnya\n",
    "# Coba panggil function luasSegitiga yang telah terupdate dengan berbagai variasi argument"
   ]
  },
  {
   "cell_type": "markdown",
   "metadata": {},
   "source": [
    "### Python Keyword Arguments\n",
    "- Nilai argumen yang diberikan pada saat pemanggilan function urut berdasarkan posisinya pada pendefinisian function\n",
    "- Misalnya, pada function salam(), kita bisa memanggilnya dengan cara salam(\"Fahmi\",\"Assalamualaikum\"), dimana \"Fahmi\" merupakan nilai untuk argument nama dan \"Assalamualaikum\" adalah nilai untuk argumen slm\n",
    "- Pemanggilan function di Python dapat menggunakan keyword arguments untuk mengubah urutan dari arguments. Pemanggilan berikut akan menghasilkan hasil yang sama:\n",
    "    - <pre><code># 2 keyword arguments\n",
    "      salam(nama = \"Fahmi\",slm = \"Selamat Pagi\")</code></pre>\n",
    "    - <pre><code># 2 keyword arguments (out of order)\n",
    "      salam(slm = \"Selamat Pagi\", nama = \"Fahmi\")</code></pre>\n",
    "    - <pre><code># 1 positional, 1 keyword argument\n",
    "      salam(\"Fahmi\",slm = \"Selamat Pagi\")</code></pre>\n",
    "- Penulisan positional arguments setelah keyword arguments akan menyebabkan error:\n",
    "    - <pre><code># 1 positional, 1 keyword argument\n",
    "      salam(nama = \"Fahmi\",\"Selamat Pagi\")</code></pre>"
   ]
  },
  {
   "cell_type": "code",
   "execution_count": null,
   "metadata": {},
   "outputs": [],
   "source": [
    "# Panggil fungsi luasSegitiga dengan cara keyword arguments dan mix"
   ]
  },
  {
   "cell_type": "markdown",
   "metadata": {},
   "source": [
    "### Python Arbitrary Arguments\n",
    "- Kadangkala, kita tidak tahu jumlah dari argument yang harus kita berikan\n",
    "- Kita dapat mengatasi permasalahan ini dengan mendefinisikan function dengan arbitrary arguments\n",
    "- Pada pendefinisian function kita gunakan asterisk (*) sebelum nama parameter untuk mendefinisikan arbitrary argument"
   ]
  },
  {
   "cell_type": "code",
   "execution_count": null,
   "metadata": {},
   "outputs": [],
   "source": [
    "def salam2(*names):\n",
    "   \"\"\"function ini akan memberikan salam\n",
    "    kepada semua orang yang namanya ada pada tuple\"\"\"\n",
    "\n",
    "   # names is a tuple with arguments\n",
    "   for name in names:\n",
    "       print(\"Assalamualaikum\",name)\n",
    "\n",
    "# Panggil function salam2 dengan argumen tuple\n",
    "salam2(\"Hisyam\",\"Fahmi\",\"Steve\",\"Jobs\")"
   ]
  },
  {
   "cell_type": "markdown",
   "metadata": {},
   "source": [
    "Latihan\n",
    "======="
   ]
  },
  {
   "cell_type": "code",
   "execution_count": null,
   "metadata": {},
   "outputs": [],
   "source": [
    "# 1. Definisikan function untuk cek bilangan ganjil/genap"
   ]
  },
  {
   "cell_type": "code",
   "execution_count": null,
   "metadata": {},
   "outputs": [],
   "source": [
    "# 2. Definisikan function untuk mencari faktor dari sebuah bilangan, yang dikembalikan adalah list dari faktor bilangan"
   ]
  },
  {
   "cell_type": "code",
   "execution_count": null,
   "metadata": {},
   "outputs": [],
   "source": [
    "# 3. Definisikan function untuk cek bilangan prima yang mengembalikan True jika prima dan False jika bukan prima"
   ]
  },
  {
   "cell_type": "markdown",
   "metadata": {},
   "source": [
    "#### https://www.programiz.com/python-programming/"
   ]
  },
  {
   "cell_type": "code",
   "execution_count": null,
   "metadata": {},
   "outputs": [],
   "source": []
  }
 ],
 "metadata": {
  "kernelspec": {
   "display_name": "Python 3",
   "language": "python",
   "name": "python3"
  },
  "language_info": {
   "codemirror_mode": {
    "name": "ipython",
    "version": 3
   },
   "file_extension": ".py",
   "mimetype": "text/x-python",
   "name": "python",
   "nbconvert_exporter": "python",
   "pygments_lexer": "ipython3",
   "version": "3.7.3"
  }
 },
 "nbformat": 4,
 "nbformat_minor": 2
}
